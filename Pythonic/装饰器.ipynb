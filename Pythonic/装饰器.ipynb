{
 "cells": [
  {
   "cell_type": "code",
   "execution_count": null,
   "metadata": {},
   "outputs": [],
   "source": [
    "# 装饰器动态调整函数的功能\n",
    "# 本质上是一个函数-作用是传入一个函数，然后修改这个函数的功能\n",
    "# 在内部定义一个新的函数，完成原来的函数，并且添加功能\n"
   ]
  },
  {
   "cell_type": "code",
   "execution_count": null,
   "metadata": {},
   "outputs": [],
   "source": [
    "import time\n",
    "def decorator(func):\n",
    "    \"\"\"计时功能装饰器\n",
    "\n",
    "    Args:\n",
    "        func (_type_): _description_\n",
    "    \"\"\"\n",
    "    def wrapper(*arges, **kwargs):\n",
    "        # add\n",
    "        start_time = time.time()\n",
    "        result = func(*arges, **kwargs)\n",
    "        end_time = time.time()\n",
    "        print(end_time - start_time)\n",
    "        return result\n",
    "    return wrapper\n",
    "@decorator\n",
    "def square(x):\n",
    "    return x * x\n"
   ]
  },
  {
   "cell_type": "code",
   "execution_count": null,
   "metadata": {},
   "outputs": [],
   "source": [
    "# 装饰器生成器：生成装饰器的函数再包裹一层\n",
    "\n",
    "def timer(threshold):\n",
    "    def decorator(func):\n",
    "        def wrapper(*args, **kwargs):\n",
    "            start_time = time.time()\n",
    "            result = func(*args, **kwargs)\n",
    "            end_time = time.time()\n",
    "            if threshold < end_time - start_time:\n",
    "                print(f\"{func.__name__}超时\")\n",
    "            return result\n",
    "        return wrapper\n",
    "    return decorator\n",
    "\n",
    "@timer(0.2)\n",
    "def sleep_04():\n",
    "    time.sleep(0.4)\n",
    "\n"
   ]
  },
  {
   "cell_type": "code",
   "execution_count": null,
   "metadata": {},
   "outputs": [],
   "source": []
  },
  {
   "cell_type": "code",
   "execution_count": 14,
   "metadata": {},
   "outputs": [
    {
     "name": "stdout",
     "output_type": "stream",
     "text": [
      "sleep_04超时\n"
     ]
    }
   ],
   "source": [
    "sleep_04()"
   ]
  },
  {
   "cell_type": "code",
   "execution_count": null,
   "metadata": {},
   "outputs": [],
   "source": []
  },
  {
   "cell_type": "code",
   "execution_count": 8,
   "metadata": {},
   "outputs": [
    {
     "name": "stdout",
     "output_type": "stream",
     "text": [
      "0.0\n",
      "0.0009927749633789062\n",
      "0.0009927749633789062\n",
      "4\n"
     ]
    }
   ],
   "source": [
    "square = decorator(square)\n",
    "print(square(2))\n"
   ]
  },
  {
   "cell_type": "code",
   "execution_count": null,
   "metadata": {},
   "outputs": [],
   "source": []
  }
 ],
 "metadata": {
  "kernelspec": {
   "display_name": "mn",
   "language": "python",
   "name": "python3"
  },
  "language_info": {
   "codemirror_mode": {
    "name": "ipython",
    "version": 3
   },
   "file_extension": ".py",
   "mimetype": "text/x-python",
   "name": "python",
   "nbconvert_exporter": "python",
   "pygments_lexer": "ipython3",
   "version": "3.9.17"
  }
 },
 "nbformat": 4,
 "nbformat_minor": 2
}

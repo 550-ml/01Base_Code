{
 "cells": [
  {
   "cell_type": "code",
   "execution_count": 1,
   "metadata": {},
   "outputs": [
    {
     "name": "stdout",
     "output_type": "stream",
     "text": [
      "8\n"
     ]
    }
   ],
   "source": [
    "# lambda函数构\n",
    "# 语法：lambda 参数列表:表达式\n",
    "add = lambda x, y : x +y\n",
    "print(add(3, 5))\n"
   ]
  },
  {
   "cell_type": "code",
   "execution_count": null,
   "metadata": {},
   "outputs": [],
   "source": [
    "# lambda作为字典\n",
    "# 一堆elif语句用字典来代替\n",
    "def user_logging(user):\n",
    "    level_credit_map ={\n",
    "        1: lambda x: x + 2,\n",
    "        2: lambda x: x + 3,\n",
    "        3: lambda x: x + 5,\n",
    "        4: lambda x: x + 7,\n",
    "        5: lambda x: x + 9,\n",
    "    }\n",
    "    user.credit = level_credit_map[user.level](user.credit)\n"
   ]
  }
 ],
 "metadata": {
  "kernelspec": {
   "display_name": "mn",
   "language": "python",
   "name": "python3"
  },
  "language_info": {
   "codemirror_mode": {
    "name": "ipython",
    "version": 3
   },
   "file_extension": ".py",
   "mimetype": "text/x-python",
   "name": "python",
   "nbconvert_exporter": "python",
   "pygments_lexer": "ipython3",
   "version": "3.9.17"
  }
 },
 "nbformat": 4,
 "nbformat_minor": 2
}

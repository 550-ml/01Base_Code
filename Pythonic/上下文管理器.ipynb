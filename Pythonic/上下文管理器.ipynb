{
 "cells": [
  {
   "cell_type": "code",
   "execution_count": null,
   "metadata": {},
   "outputs": [],
   "source": [
    "# 原理\n",
    "# with后面跟着上下文管理器\n",
    "# __enter__返回值保存到f\n",
    "# __exit__推出行为"
   ]
  },
  {
   "cell_type": "code",
   "execution_count": null,
   "metadata": {},
   "outputs": [
    {
     "name": "stdout",
     "output_type": "stream",
     "text": [
      "init\n",
      "enter\n",
      "the value is test.txt\n",
      "exit\n",
      "exc_type: <class 'ValueError'>\n",
      "exc_val: value error\n",
      "exc_tb: <traceback object at 0x000001C83170F000>\n"
     ]
    }
   ],
   "source": [
    "class MyOpen:\n",
    "    def __init__(self, file_path):\n",
    "        print('init')\n",
    "        self.file_path = file_path\n",
    "    \n",
    "    def __enter__(self):\n",
    "        print('enter')\n",
    "        return self.file_path\n",
    "\n",
    "    def  __exit__(self, exc_type, exc_val, exc_tb):\n",
    "        \"处理异常\"\n",
    "        print('exit')\n",
    "        if exc_type is not None:\n",
    "            print(f'exc_type: {exc_type}')\n",
    "            print(f'exc_val: {exc_val}')\n",
    "            print(f'exc_tb: {exc_tb}')\n",
    "            return True\n",
    "\n",
    "with MyOpen('test.txt') as f:\n",
    "    print(f'the value is {f}')\n",
    "    raise ValueError('value error')"
   ]
  },
  {
   "cell_type": "code",
   "execution_count": null,
   "metadata": {},
   "outputs": [],
   "source": [
    "# 上下文管理器什么时候用\n",
    "# 在进入with语句时需要设置一些状态，退出时需要清理一些状态 = try finally"
   ]
  }
 ],
 "metadata": {
  "kernelspec": {
   "display_name": "rag",
   "language": "python",
   "name": "python3"
  },
  "language_info": {
   "codemirror_mode": {
    "name": "ipython",
    "version": 3
   },
   "file_extension": ".py",
   "mimetype": "text/x-python",
   "name": "python",
   "nbconvert_exporter": "python",
   "pygments_lexer": "ipython3",
   "version": "3.10.14"
  }
 },
 "nbformat": 4,
 "nbformat_minor": 2
}

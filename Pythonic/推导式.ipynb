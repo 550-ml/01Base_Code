{
 "cells": [
  {
   "cell_type": "code",
   "execution_count": 1,
   "metadata": {},
   "outputs": [
    {
     "name": "stdout",
     "output_type": "stream",
     "text": [
      "[1, 2, 3, 4, 5, 6, 7, 8, 9, 10]\n",
      "[1, 4, 9, 16, 25, 36, 49, 64, 81, 100]\n",
      "[2, 4, 6, 8, 10]\n",
      "[1, 4, 27, 16, 125, 36, 343, 64, 729, 100]\n",
      "[('a', 1), ('a', 2), ('a', 3), ('b', 1), ('b', 2), ('b', 3), ('c', 1), ('c', 2), ('c', 3)]\n",
      "{'a': 1, 'b': 2, 'c': 3}\n",
      "{1, 2, 3}\n"
     ]
    }
   ],
   "source": [
    "nums = [1,2,3,4,5,6,7,8,9,10]\n",
    "\n",
    "# 推导式复制\n",
    "nums2 = [i for i in nums]\n",
    "print(nums2)\n",
    "\n",
    "# 平方\n",
    "nums3 = [i**2 for i  in nums]\n",
    "print(nums3)\n",
    "\n",
    "# 偶数\n",
    "nums4 = [i for i in nums if i % 2 == 0]\n",
    "print(nums4)\n",
    "\n",
    "# 三元表达式\n",
    "nums5 = [i**2 if i%2 == 0 else i**3 for i in nums]\n",
    "print(nums5)\n",
    "\n",
    "# 元组列表\n",
    "letters = ['a', 'b', 'c']\n",
    "nums = [1, 2, 3]\n",
    "nums6 = [(i, j) for i in letters for j in nums]\n",
    "print(nums6)\n",
    "\n",
    "# 字典推导式\n",
    "nums7 = {i: j for i, j in zip(letters, nums)}\n",
    "print(nums7)\n",
    "\n",
    "# 集合推导式\n",
    "nums8 = {i for i in nums}\n",
    "print(nums8)\n"
   ]
  }
 ],
 "metadata": {
  "kernelspec": {
   "display_name": "mn",
   "language": "python",
   "name": "python3"
  },
  "language_info": {
   "codemirror_mode": {
    "name": "ipython",
    "version": 3
   },
   "file_extension": ".py",
   "mimetype": "text/x-python",
   "name": "python",
   "nbconvert_exporter": "python",
   "pygments_lexer": "ipython3",
   "version": "3.9.17"
  }
 },
 "nbformat": 4,
 "nbformat_minor": 2
}

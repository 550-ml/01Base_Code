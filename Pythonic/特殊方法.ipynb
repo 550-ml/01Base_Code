{
 "cells": [
  {
   "cell_type": "code",
   "execution_count": null,
   "metadata": {},
   "outputs": [],
   "source": [
    "# 魔法方法，定义魔法方法可以让类实例化后的对象可以使用python内置函数\n",
    "# 类要如何对待运算符和内置函数，可以通过魔法方法来定义\n",
    "\n",
    "\n"
   ]
  },
  {
   "cell_type": "code",
   "execution_count": 4,
   "metadata": {},
   "outputs": [
    {
     "name": "stdout",
     "output_type": "stream",
     "text": [
      "apple, banana\n",
      "3\n",
      "['apple', 'banana', 'pear', 'pear', 'orange']\n"
     ]
    }
   ],
   "source": [
    "from typing import List\n",
    "\n",
    "# 类如何对待内置函数\n",
    "class ShoppingCart:\n",
    "    def __init__(self, items: List[str]):\n",
    "        self.items = items\n",
    "    \n",
    "    def __add__(self, other: 'ShoppingCart') -> 'ShoppingCart':\n",
    "        return ShoppingCart(self.items + other.items)\n",
    "    \n",
    "    def __str__(self):\n",
    "        return ', '.join(self.items)\n",
    "\n",
    "    def __len__(self):\n",
    "        return len(self.items)\n",
    "    \n",
    "    # 调用函数一样调用实例\n",
    "    def __call__(self, *args, **kwds):\n",
    "        self.items.append(*args)\n",
    "\n",
    "\n",
    "car1 = ShoppingCart(['apple', 'banana'])\n",
    "print(car1)\n",
    "car1('pear')\n",
    "print(len(car1))\n",
    "car2 = ShoppingCart(['pear', 'orange'])\n",
    "print((car1 + car2).items) # ['apple', 'banana', 'pear', 'orange']"
   ]
  }
 ],
 "metadata": {
  "kernelspec": {
   "display_name": "mn",
   "language": "python",
   "name": "python3"
  },
  "language_info": {
   "codemirror_mode": {
    "name": "ipython",
    "version": 3
   },
   "file_extension": ".py",
   "mimetype": "text/x-python",
   "name": "python",
   "nbconvert_exporter": "python",
   "pygments_lexer": "ipython3",
   "version": "3.9.17"
  }
 },
 "nbformat": 4,
 "nbformat_minor": 2
}

{
 "cells": [
  {
   "cell_type": "code",
   "execution_count": null,
   "metadata": {},
   "outputs": [],
   "source": [
    "# 携程：暂停运行恢复运行的函数：返回携程对象\n"
   ]
  },
  {
   "cell_type": "code",
   "execution_count": 1,
   "metadata": {},
   "outputs": [
    {
     "name": "stdout",
     "output_type": "stream",
     "text": [
      "<coroutine object coroutine_func at 0x0000016C9F03DAC0>\n"
     ]
    },
    {
     "name": "stderr",
     "output_type": "stream",
     "text": [
      "C:\\Users\\24612\\AppData\\Local\\Temp\\ipykernel_19744\\4012126303.py:6: RuntimeWarning: coroutine 'coroutine_func' was never awaited\n",
      "  print(coroutine_func())  # <coroutine object coroutine_func at 0x7f8b3c3b3b40>\n",
      "RuntimeWarning: Enable tracemalloc to get the object allocation traceback\n"
     ]
    }
   ],
   "source": [
    "import asyncio\n",
    "\n",
    "async def coroutine_func():\n",
    "    return \"coroutine_func\"\n",
    "\n",
    "# 返回携程对象 await\n",
    "print(coroutine_func())  # <coroutine object coroutine_func at 0x7f8b3c3b3b40>"
   ]
  },
  {
   "cell_type": "code",
   "execution_count": null,
   "metadata": {},
   "outputs": [],
   "source": [
    "# 事件循环：检查携程、让出控制、等待携程\n",
    "# 定义携程函数、携程包装成任务、任务加入事件循环\n"
   ]
  }
 ],
 "metadata": {
  "kernelspec": {
   "display_name": "mn",
   "language": "python",
   "name": "python3"
  },
  "language_info": {
   "codemirror_mode": {
    "name": "ipython",
    "version": 3
   },
   "file_extension": ".py",
   "mimetype": "text/x-python",
   "name": "python",
   "nbconvert_exporter": "python",
   "pygments_lexer": "ipython3",
   "version": "3.9.17"
  }
 },
 "nbformat": 4,
 "nbformat_minor": 2
}
